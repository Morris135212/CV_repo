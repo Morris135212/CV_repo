{
 "cells": [
  {
   "cell_type": "code",
   "execution_count": 1,
   "id": "6cbb6d0f",
   "metadata": {},
   "outputs": [
    {
     "name": "stderr",
     "output_type": "stream",
     "text": [
      "/Users/maochenhui/miniforge3/envs/DL/lib/python3.8/site-packages/torchvision/io/image.py:11: UserWarning: Failed to load image Python extension: \n",
      "  warn(f\"Failed to load image Python extension: {e}\")\n"
     ]
    }
   ],
   "source": [
    "from dataset.cnn3d import CustomDataset\n",
    "import os"
   ]
  },
  {
   "cell_type": "code",
   "execution_count": 2,
   "id": "c60c6f00",
   "metadata": {},
   "outputs": [],
   "source": [
    "train_path = \"./images/Fall_Detection/Train\"\n",
    "val_path = \"./images/Fall_Detection/Test\"\n",
    "classes = [\"Walk\", \"Fall\"]\n",
    "trainset = CustomDataset(train_path, classes)\n",
    "valset = CustomDataset(val_path, classes)"
   ]
  },
  {
   "cell_type": "markdown",
   "id": "1dfad0ee",
   "metadata": {},
   "source": [
    "### 数据特征展示"
   ]
  },
  {
   "cell_type": "code",
   "execution_count": 4,
   "id": "0bcf1341",
   "metadata": {},
   "outputs": [
    {
     "name": "stdout",
     "output_type": "stream",
     "text": [
      "156\n"
     ]
    }
   ],
   "source": [
    "walk_frames, fall_frames = 0, 0\n",
    "root = \"./images/Fall_Detection/Train\"\n",
    "for item in os.listdir(f\"{root}/Walk\"):\n",
    "    try:\n",
    "        walk_frames+=len(os.listdir(f\"{root}/Fall/{item}\"))\n",
    "    except:\n",
    "        continue\n",
    "        \n",
    "root = \"./images/Fall_Detection/Test\"\n",
    "for item in os.listdir(f\"{root}/Walk\"):\n",
    "    try:\n",
    "        walk_frames+=len(os.listdir(f\"{root}/Fall/{item}\"))\n",
    "    except:\n",
    "        continue\n",
    "print(walk_frames)"
   ]
  },
  {
   "cell_type": "code",
   "execution_count": 5,
   "id": "e620a557",
   "metadata": {},
   "outputs": [
    {
     "data": {
      "text/plain": [
       "(137, 54)"
      ]
     },
     "execution_count": 5,
     "metadata": {},
     "output_type": "execute_result"
    }
   ],
   "source": [
    "walk, fall = 0, 0\n",
    "for item in trainset.annotations:\n",
    "    walk = walk+1 if item[\"class_index\"]==0 else walk\n",
    "    fall = fall+1 if item[\"class_index\"]==1 else fall\n",
    "for item in valset.annotations:\n",
    "    walk = walk+1 if item[\"class_index\"]==0 else walk\n",
    "    fall = fall+1 if item[\"class_index\"]==1 else fall\n",
    "\n",
    "walk, fall"
   ]
  },
  {
   "cell_type": "markdown",
   "id": "974e22da",
   "metadata": {},
   "source": [
    "### 模型训练"
   ]
  },
  {
   "cell_type": "code",
   "execution_count": 7,
   "id": "d711b49e",
   "metadata": {},
   "outputs": [
    {
     "name": "stderr",
     "output_type": "stream",
     "text": [
      "/Users/maochenhui/Python/pycharm_workspace/CV_repo/model/cnn3d/__init__.py:252: UserWarning: nn.init.kaiming_normal is now deprecated in favor of nn.init.kaiming_normal_.\n",
      "  m.weight = nn.init.kaiming_normal(m.weight, mode='fan_out')\n"
     ]
    }
   ],
   "source": [
    "from model.cnn3d import get_model, resnet10\n",
    "model = get_model(sample_size=112, sample_duration=10, num_classes=2)\n",
    "resnet = resnet10(sample_size=112, sample_duration=10, num_classes=2)"
   ]
  },
  {
   "cell_type": "code",
   "execution_count": 8,
   "id": "5b86d96f",
   "metadata": {},
   "outputs": [
    {
     "name": "stdout",
     "output_type": "stream",
     "text": [
      "Initialize conv\n",
      "Initialize Bathch\n",
      "Initialize conv\n",
      "Initialize Bathch\n",
      "Initialize conv\n",
      "Initialize Bathch\n",
      "Initialize conv\n",
      "Initialize Bathch\n",
      "Initialize conv\n",
      "Initialize Bathch\n",
      "Initialize conv\n",
      "Initialize Bathch\n",
      "Initialize conv\n",
      "Initialize Bathch\n",
      "Initialize conv\n",
      "Initialize Bathch\n",
      "Initialize Linear\n",
      "Initialize Linear\n",
      "Initialize Linear\n"
     ]
    }
   ],
   "source": [
    "from train.cnn3d import Trainer\n",
    "\n",
    "config = {\n",
    "    \"model\": model,\n",
    "    \"train_data\":trainset,\n",
    "    \"val_data\":valset,\n",
    "    \"batch_size\":2,\n",
    "    \"epochs\":20,\n",
    "    \"step_size\":200,\n",
    "    \"lr\":1e-3,\n",
    "    \"interval\":40\n",
    "}\n",
    "trainer = Trainer(**config)"
   ]
  },
  {
   "cell_type": "code",
   "execution_count": 9,
   "id": "df5e6b35",
   "metadata": {},
   "outputs": [
    {
     "name": "stdout",
     "output_type": "stream",
     "text": [
      "Start training\n",
      "At epoch 0\n"
     ]
    },
    {
     "name": "stderr",
     "output_type": "stream",
     "text": [
      "\r",
      "  0%|                                                    | 0/87 [00:00<?, ?it/s]"
     ]
    },
    {
     "name": "stdout",
     "output_type": "stream",
     "text": [
      "train loss: 2.5197062492370605, train accuracy: 0.5; eval loss: 0.9560476640860239, eval accuracy: 0.3888888888888889\n",
      "Validation loss decreased (inf --> 0.956048).  Saving model ...\n"
     ]
    },
    {
     "name": "stderr",
     "output_type": "stream",
     "text": [
      " 46%|███████████████████▊                       | 40/87 [00:09<00:09,  5.01it/s]"
     ]
    },
    {
     "name": "stdout",
     "output_type": "stream",
     "text": [
      "train loss: 4.551667282146632, train accuracy: 0.8292682926829268; eval loss: 0.00024310289978125689, eval accuracy: 1.0\n",
      "Validation loss decreased (0.956048 --> 0.000243).  Saving model ...\n"
     ]
    },
    {
     "name": "stderr",
     "output_type": "stream",
     "text": [
      " 94%|████████████████████████████████████████▌  | 82/87 [00:19<00:01,  2.64it/s]"
     ]
    },
    {
     "name": "stdout",
     "output_type": "stream",
     "text": [
      "train loss: 3.4780167510839797, train accuracy: 0.8580246913580247; eval loss: 1.056749211417304, eval accuracy: 0.6111111111111112\n",
      "EarlyStopping counter: 1 out of 20\n"
     ]
    },
    {
     "name": "stderr",
     "output_type": "stream",
     "text": [
      "100%|███████████████████████████████████████████| 87/87 [00:20<00:00,  4.34it/s]\n"
     ]
    },
    {
     "name": "stdout",
     "output_type": "stream",
     "text": [
      "At epoch 1\n"
     ]
    },
    {
     "name": "stderr",
     "output_type": "stream",
     "text": [
      "  2%|█                                           | 2/87 [00:01<00:47,  1.79it/s]"
     ]
    },
    {
     "name": "stdout",
     "output_type": "stream",
     "text": [
      "train loss: 4.7683693082944956e-07, train accuracy: 1.0; eval loss: 7.112444175614251, eval accuracy: 0.4444444444444444\n",
      "EarlyStopping counter: 2 out of 20\n"
     ]
    },
    {
     "name": "stderr",
     "output_type": "stream",
     "text": [
      " 46%|███████████████████▊                       | 40/87 [00:08<00:08,  5.31it/s]"
     ]
    },
    {
     "name": "stdout",
     "output_type": "stream",
     "text": [
      "train loss: 1.7854423364539143, train accuracy: 0.9390243902439024; eval loss: 0.0, eval accuracy: 1.0\n",
      "Validation loss decreased (0.000243 --> 0.000000).  Saving model ...\n"
     ]
    },
    {
     "name": "stderr",
     "output_type": "stream",
     "text": [
      " 92%|███████████████████████████████████████▌   | 80/87 [00:17<00:01,  5.11it/s]"
     ]
    },
    {
     "name": "stdout",
     "output_type": "stream",
     "text": [
      "train loss: 3.980207396241507, train accuracy: 0.9197530864197531; eval loss: 0.0, eval accuracy: 1.0\n",
      "Validation loss decreased (0.000000 --> 0.000000).  Saving model ...\n"
     ]
    },
    {
     "name": "stderr",
     "output_type": "stream",
     "text": [
      "100%|███████████████████████████████████████████| 87/87 [00:19<00:00,  4.46it/s]\n"
     ]
    },
    {
     "name": "stdout",
     "output_type": "stream",
     "text": [
      "At epoch 2\n"
     ]
    },
    {
     "name": "stderr",
     "output_type": "stream",
     "text": [
      "  2%|█                                           | 2/87 [00:01<00:47,  1.79it/s]"
     ]
    },
    {
     "name": "stdout",
     "output_type": "stream",
     "text": [
      "train loss: 0.0, train accuracy: 1.0; eval loss: 48.182118309868706, eval accuracy: 0.5555555555555556\n",
      "EarlyStopping counter: 1 out of 20\n"
     ]
    },
    {
     "name": "stderr",
     "output_type": "stream",
     "text": [
      " 46%|███████████████████▊                       | 40/87 [00:08<00:08,  5.27it/s]"
     ]
    },
    {
     "name": "stdout",
     "output_type": "stream",
     "text": [
      "train loss: 0.28090361179384093, train accuracy: 0.975609756097561; eval loss: 0.0, eval accuracy: 1.0\n",
      "Validation loss decreased (0.000000 --> 0.000000).  Saving model ...\n"
     ]
    },
    {
     "name": "stderr",
     "output_type": "stream",
     "text": [
      " 94%|████████████████████████████████████████▌  | 82/87 [00:18<00:01,  2.62it/s]"
     ]
    },
    {
     "name": "stdout",
     "output_type": "stream",
     "text": [
      "train loss: 0.3013388287359271, train accuracy: 0.9814814814814815; eval loss: 24.95467053519355, eval accuracy: 0.7777777777777778\n",
      "EarlyStopping counter: 1 out of 20\n"
     ]
    },
    {
     "name": "stderr",
     "output_type": "stream",
     "text": [
      "100%|███████████████████████████████████████████| 87/87 [00:19<00:00,  4.45it/s]\n"
     ]
    },
    {
     "name": "stdout",
     "output_type": "stream",
     "text": [
      "At epoch 3\n"
     ]
    },
    {
     "name": "stderr",
     "output_type": "stream",
     "text": [
      "  2%|█                                           | 2/87 [00:01<00:48,  1.76it/s]"
     ]
    },
    {
     "name": "stdout",
     "output_type": "stream",
     "text": [
      "train loss: 0.0, train accuracy: 1.0; eval loss: 13.86221350563897, eval accuracy: 0.8333333333333334\n",
      "EarlyStopping counter: 2 out of 20\n"
     ]
    },
    {
     "name": "stderr",
     "output_type": "stream",
     "text": [
      " 46%|███████████████████▊                       | 40/87 [00:08<00:09,  5.14it/s]"
     ]
    },
    {
     "name": "stdout",
     "output_type": "stream",
     "text": [
      "train loss: 0.1746358762064382, train accuracy: 0.9878048780487805; eval loss: 0.0, eval accuracy: 1.0\n",
      "Validation loss decreased (0.000000 --> 0.000000).  Saving model ...\n"
     ]
    },
    {
     "name": "stderr",
     "output_type": "stream",
     "text": [
      " 92%|███████████████████████████████████████▌   | 80/87 [00:17<00:01,  4.98it/s]"
     ]
    },
    {
     "name": "stdout",
     "output_type": "stream",
     "text": [
      "train loss: 0.08850392323726973, train accuracy: 0.9938271604938271; eval loss: 0.0, eval accuracy: 1.0\n",
      "Validation loss decreased (0.000000 --> 0.000000).  Saving model ...\n"
     ]
    },
    {
     "name": "stderr",
     "output_type": "stream",
     "text": [
      "100%|███████████████████████████████████████████| 87/87 [00:19<00:00,  4.39it/s]\n"
     ]
    },
    {
     "name": "stdout",
     "output_type": "stream",
     "text": [
      "At epoch 4\n"
     ]
    },
    {
     "name": "stderr",
     "output_type": "stream",
     "text": [
      "\r",
      "  0%|                                                    | 0/87 [00:00<?, ?it/s]"
     ]
    },
    {
     "name": "stdout",
     "output_type": "stream",
     "text": [
      "train loss: 0.0, train accuracy: 1.0; eval loss: 0.0, eval accuracy: 1.0\n",
      "Validation loss decreased (0.000000 --> 0.000000).  Saving model ...\n"
     ]
    },
    {
     "name": "stderr",
     "output_type": "stream",
     "text": [
      " 46%|███████████████████▊                       | 40/87 [00:09<00:08,  5.28it/s]"
     ]
    },
    {
     "name": "stdout",
     "output_type": "stream",
     "text": [
      "train loss: 7.12862408631015e-05, train accuracy: 1.0; eval loss: 0.0, eval accuracy: 1.0\n",
      "Validation loss decreased (0.000000 --> 0.000000).  Saving model ...\n"
     ]
    },
    {
     "name": "stderr",
     "output_type": "stream",
     "text": [
      " 92%|███████████████████████████████████████▌   | 80/87 [00:17<00:01,  5.12it/s]"
     ]
    },
    {
     "name": "stdout",
     "output_type": "stream",
     "text": [
      "train loss: 4.0291578947476634e-05, train accuracy: 1.0; eval loss: 0.0, eval accuracy: 1.0\n",
      "Validation loss decreased (0.000000 --> 0.000000).  Saving model ...\n"
     ]
    },
    {
     "name": "stderr",
     "output_type": "stream",
     "text": [
      "100%|███████████████████████████████████████████| 87/87 [00:20<00:00,  4.31it/s]\n"
     ]
    },
    {
     "name": "stdout",
     "output_type": "stream",
     "text": [
      "At epoch 5\n"
     ]
    },
    {
     "name": "stderr",
     "output_type": "stream",
     "text": [
      "\r",
      "  0%|                                                    | 0/87 [00:00<?, ?it/s]"
     ]
    },
    {
     "name": "stdout",
     "output_type": "stream",
     "text": [
      "train loss: 0.0, train accuracy: 1.0; eval loss: 0.0, eval accuracy: 1.0\n",
      "Validation loss decreased (0.000000 --> 0.000000).  Saving model ...\n"
     ]
    },
    {
     "name": "stderr",
     "output_type": "stream",
     "text": [
      " 46%|███████████████████▊                       | 40/87 [00:08<00:09,  5.13it/s]"
     ]
    },
    {
     "name": "stdout",
     "output_type": "stream",
     "text": [
      "train loss: 0.10102677525843852, train accuracy: 0.9878048780487805; eval loss: 0.0, eval accuracy: 1.0\n",
      "Validation loss decreased (0.000000 --> 0.000000).  Saving model ...\n"
     ]
    },
    {
     "name": "stderr",
     "output_type": "stream",
     "text": [
      " 92%|███████████████████████████████████████▌   | 80/87 [00:17<00:01,  5.33it/s]"
     ]
    },
    {
     "name": "stdout",
     "output_type": "stream",
     "text": [
      "train loss: 0.05802066695828272, train accuracy: 0.9876543209876543; eval loss: 0.0, eval accuracy: 1.0\n",
      "Validation loss decreased (0.000000 --> 0.000000).  Saving model ...\n"
     ]
    },
    {
     "name": "stderr",
     "output_type": "stream",
     "text": [
      "100%|███████████████████████████████████████████| 87/87 [00:19<00:00,  4.40it/s]\n"
     ]
    },
    {
     "name": "stdout",
     "output_type": "stream",
     "text": [
      "At epoch 6\n"
     ]
    },
    {
     "name": "stderr",
     "output_type": "stream",
     "text": [
      "\r",
      "  0%|                                                    | 0/87 [00:00<?, ?it/s]"
     ]
    },
    {
     "name": "stdout",
     "output_type": "stream",
     "text": [
      "train loss: 0.0, train accuracy: 1.0; eval loss: 0.0, eval accuracy: 1.0\n",
      "Validation loss decreased (0.000000 --> 0.000000).  Saving model ...\n"
     ]
    },
    {
     "name": "stderr",
     "output_type": "stream",
     "text": [
      " 46%|███████████████████▊                       | 40/87 [00:09<00:09,  5.13it/s]"
     ]
    },
    {
     "name": "stdout",
     "output_type": "stream",
     "text": [
      "train loss: 6.892335872278847e-05, train accuracy: 1.0; eval loss: 0.0, eval accuracy: 1.0\n",
      "Validation loss decreased (0.000000 --> 0.000000).  Saving model ...\n"
     ]
    },
    {
     "name": "stderr",
     "output_type": "stream",
     "text": [
      " 92%|███████████████████████████████████████▌   | 80/87 [00:18<00:01,  5.21it/s]"
     ]
    },
    {
     "name": "stdout",
     "output_type": "stream",
     "text": [
      "train loss: 0.02679947640193909, train accuracy: 0.9938271604938271; eval loss: 0.0, eval accuracy: 1.0\n",
      "Validation loss decreased (0.000000 --> 0.000000).  Saving model ...\n"
     ]
    },
    {
     "name": "stderr",
     "output_type": "stream",
     "text": [
      "100%|███████████████████████████████████████████| 87/87 [00:20<00:00,  4.28it/s]\n"
     ]
    },
    {
     "name": "stdout",
     "output_type": "stream",
     "text": [
      "At epoch 7\n"
     ]
    },
    {
     "name": "stderr",
     "output_type": "stream",
     "text": [
      "\r",
      "  0%|                                                    | 0/87 [00:00<?, ?it/s]"
     ]
    },
    {
     "name": "stdout",
     "output_type": "stream",
     "text": [
      "train loss: 0.0, train accuracy: 1.0; eval loss: 0.0, eval accuracy: 1.0\n",
      "Validation loss decreased (0.000000 --> 0.000000).  Saving model ...\n"
     ]
    },
    {
     "name": "stderr",
     "output_type": "stream",
     "text": [
      " 46%|███████████████████▊                       | 40/87 [00:08<00:08,  5.23it/s]"
     ]
    },
    {
     "name": "stdout",
     "output_type": "stream",
     "text": [
      "train loss: 4.114105050997218e-07, train accuracy: 1.0; eval loss: 0.0, eval accuracy: 1.0\n",
      "Validation loss decreased (0.000000 --> 0.000000).  Saving model ...\n"
     ]
    },
    {
     "name": "stderr",
     "output_type": "stream",
     "text": [
      " 92%|███████████████████████████████████████▌   | 80/87 [00:17<00:01,  4.97it/s]"
     ]
    },
    {
     "name": "stdout",
     "output_type": "stream",
     "text": [
      "train loss: 2.384150028785685e-07, train accuracy: 1.0; eval loss: 0.0, eval accuracy: 1.0\n",
      "Validation loss decreased (0.000000 --> 0.000000).  Saving model ...\n"
     ]
    },
    {
     "name": "stderr",
     "output_type": "stream",
     "text": [
      "100%|███████████████████████████████████████████| 87/87 [00:20<00:00,  4.33it/s]\n"
     ]
    },
    {
     "name": "stdout",
     "output_type": "stream",
     "text": [
      "At epoch 8\n"
     ]
    },
    {
     "name": "stderr",
     "output_type": "stream",
     "text": [
      "\r",
      "  0%|                                                    | 0/87 [00:00<?, ?it/s]"
     ]
    },
    {
     "name": "stdout",
     "output_type": "stream",
     "text": [
      "train loss: 0.0, train accuracy: 1.0; eval loss: 0.0, eval accuracy: 1.0\n",
      "Validation loss decreased (0.000000 --> 0.000000).  Saving model ...\n"
     ]
    },
    {
     "name": "stderr",
     "output_type": "stream",
     "text": [
      " 46%|███████████████████▊                       | 40/87 [00:09<00:09,  5.06it/s]"
     ]
    },
    {
     "name": "stdout",
     "output_type": "stream",
     "text": [
      "train loss: 1.453771737138462e-09, train accuracy: 1.0; eval loss: 0.0, eval accuracy: 1.0\n",
      "Validation loss decreased (0.000000 --> 0.000000).  Saving model ...\n"
     ]
    },
    {
     "name": "stderr",
     "output_type": "stream",
     "text": [
      " 92%|███████████████████████████████████████▌   | 80/87 [00:18<00:01,  5.15it/s]"
     ]
    },
    {
     "name": "stdout",
     "output_type": "stream",
     "text": [
      "train loss: 8.263155948894525e-07, train accuracy: 1.0; eval loss: 0.0, eval accuracy: 1.0\n",
      "Validation loss decreased (0.000000 --> 0.000000).  Saving model ...\n"
     ]
    },
    {
     "name": "stderr",
     "output_type": "stream",
     "text": [
      "100%|███████████████████████████████████████████| 87/87 [00:20<00:00,  4.24it/s]\n"
     ]
    },
    {
     "name": "stdout",
     "output_type": "stream",
     "text": [
      "At epoch 9\n"
     ]
    },
    {
     "name": "stderr",
     "output_type": "stream",
     "text": [
      "\r",
      "  0%|                                                    | 0/87 [00:00<?, ?it/s]"
     ]
    },
    {
     "name": "stdout",
     "output_type": "stream",
     "text": [
      "train loss: 1.1920927533992653e-07, train accuracy: 1.0; eval loss: 0.0, eval accuracy: 1.0\n",
      "Validation loss decreased (0.000000 --> 0.000000).  Saving model ...\n"
     ]
    },
    {
     "name": "stderr",
     "output_type": "stream",
     "text": [
      " 46%|███████████████████▊                       | 40/87 [00:08<00:09,  5.20it/s]"
     ]
    },
    {
     "name": "stdout",
     "output_type": "stream",
     "text": [
      "train loss: 5.815086601947636e-09, train accuracy: 1.0; eval loss: 0.0, eval accuracy: 1.0\n",
      "Validation loss decreased (0.000000 --> 0.000000).  Saving model ...\n"
     ]
    },
    {
     "name": "stderr",
     "output_type": "stream",
     "text": [
      " 92%|███████████████████████████████████████▌   | 80/87 [00:18<00:01,  4.84it/s]"
     ]
    },
    {
     "name": "stdout",
     "output_type": "stream",
     "text": [
      "train loss: 0.01522948925095082, train accuracy: 0.9938271604938271; eval loss: 0.0, eval accuracy: 1.0\n",
      "Validation loss decreased (0.000000 --> 0.000000).  Saving model ...\n"
     ]
    },
    {
     "name": "stderr",
     "output_type": "stream",
     "text": [
      "100%|███████████████████████████████████████████| 87/87 [00:20<00:00,  4.21it/s]\n"
     ]
    },
    {
     "name": "stdout",
     "output_type": "stream",
     "text": [
      "At epoch 10\n"
     ]
    },
    {
     "name": "stderr",
     "output_type": "stream",
     "text": [
      "\r",
      "  0%|                                                    | 0/87 [00:00<?, ?it/s]"
     ]
    },
    {
     "name": "stdout",
     "output_type": "stream",
     "text": [
      "train loss: 0.0, train accuracy: 1.0; eval loss: 0.0, eval accuracy: 1.0\n",
      "Validation loss decreased (0.000000 --> 0.000000).  Saving model ...\n"
     ]
    },
    {
     "name": "stderr",
     "output_type": "stream",
     "text": [
      " 46%|███████████████████▊                       | 40/87 [00:09<00:10,  4.51it/s]"
     ]
    },
    {
     "name": "stdout",
     "output_type": "stream",
     "text": [
      "train loss: 9.1788770740694e-05, train accuracy: 1.0; eval loss: 0.0, eval accuracy: 1.0\n",
      "Validation loss decreased (0.000000 --> 0.000000).  Saving model ...\n"
     ]
    },
    {
     "name": "stderr",
     "output_type": "stream",
     "text": [
      " 92%|███████████████████████████████████████▌   | 80/87 [00:19<00:01,  4.85it/s]"
     ]
    },
    {
     "name": "stdout",
     "output_type": "stream",
     "text": [
      "train loss: 0.001285389975406321, train accuracy: 1.0; eval loss: 0.0, eval accuracy: 1.0\n",
      "Validation loss decreased (0.000000 --> 0.000000).  Saving model ...\n"
     ]
    },
    {
     "name": "stderr",
     "output_type": "stream",
     "text": [
      "100%|███████████████████████████████████████████| 87/87 [00:21<00:00,  4.03it/s]\n"
     ]
    },
    {
     "name": "stdout",
     "output_type": "stream",
     "text": [
      "At epoch 11\n"
     ]
    },
    {
     "name": "stderr",
     "output_type": "stream",
     "text": [
      "\r",
      "  0%|                                                    | 0/87 [00:00<?, ?it/s]"
     ]
    },
    {
     "name": "stdout",
     "output_type": "stream",
     "text": [
      "train loss: 0.0, train accuracy: 1.0; eval loss: 0.0, eval accuracy: 1.0\n",
      "Validation loss decreased (0.000000 --> 0.000000).  Saving model ...\n"
     ]
    },
    {
     "name": "stderr",
     "output_type": "stream",
     "text": [
      " 46%|███████████████████▊                       | 40/87 [00:09<00:09,  4.84it/s]"
     ]
    },
    {
     "name": "stdout",
     "output_type": "stream",
     "text": [
      "train loss: 8.286472213010866e-08, train accuracy: 1.0; eval loss: 0.0, eval accuracy: 1.0\n",
      "Validation loss decreased (0.000000 --> 0.000000).  Saving model ...\n"
     ]
    },
    {
     "name": "stderr",
     "output_type": "stream",
     "text": [
      " 92%|███████████████████████████████████████▌   | 80/87 [00:18<00:01,  4.84it/s]"
     ]
    },
    {
     "name": "stdout",
     "output_type": "stream",
     "text": [
      "train loss: 8.388773782067004e-08, train accuracy: 1.0; eval loss: 0.0, eval accuracy: 1.0\n",
      "Validation loss decreased (0.000000 --> 0.000000).  Saving model ...\n"
     ]
    },
    {
     "name": "stderr",
     "output_type": "stream",
     "text": [
      "100%|███████████████████████████████████████████| 87/87 [00:21<00:00,  4.10it/s]\n"
     ]
    },
    {
     "name": "stdout",
     "output_type": "stream",
     "text": [
      "At epoch 12\n"
     ]
    },
    {
     "name": "stderr",
     "output_type": "stream",
     "text": [
      "\r",
      "  0%|                                                    | 0/87 [00:00<?, ?it/s]"
     ]
    },
    {
     "name": "stdout",
     "output_type": "stream",
     "text": [
      "train loss: 0.0, train accuracy: 1.0; eval loss: 0.0, eval accuracy: 1.0\n",
      "Validation loss decreased (0.000000 --> 0.000000).  Saving model ...\n"
     ]
    },
    {
     "name": "stderr",
     "output_type": "stream",
     "text": [
      " 46%|███████████████████▊                       | 40/87 [00:09<00:09,  4.79it/s]"
     ]
    },
    {
     "name": "stdout",
     "output_type": "stream",
     "text": [
      "train loss: 5.6697004078071076e-08, train accuracy: 1.0; eval loss: 0.0, eval accuracy: 1.0\n",
      "Validation loss decreased (0.000000 --> 0.000000).  Saving model ...\n"
     ]
    },
    {
     "name": "stderr",
     "output_type": "stream",
     "text": [
      " 92%|███████████████████████████████████████▌   | 80/87 [00:19<00:01,  4.74it/s]"
     ]
    },
    {
     "name": "stdout",
     "output_type": "stream",
     "text": [
      "train loss: 8.01669534875648e-05, train accuracy: 1.0; eval loss: 0.0, eval accuracy: 1.0\n",
      "Validation loss decreased (0.000000 --> 0.000000).  Saving model ...\n"
     ]
    },
    {
     "name": "stderr",
     "output_type": "stream",
     "text": [
      "100%|███████████████████████████████████████████| 87/87 [00:21<00:00,  4.03it/s]\n"
     ]
    },
    {
     "name": "stdout",
     "output_type": "stream",
     "text": [
      "At epoch 13\n"
     ]
    },
    {
     "name": "stderr",
     "output_type": "stream",
     "text": [
      "\r",
      "  0%|                                                    | 0/87 [00:00<?, ?it/s]"
     ]
    },
    {
     "name": "stdout",
     "output_type": "stream",
     "text": [
      "train loss: 0.0, train accuracy: 1.0; eval loss: 0.0, eval accuracy: 1.0\n",
      "Validation loss decreased (0.000000 --> 0.000000).  Saving model ...\n"
     ]
    },
    {
     "name": "stderr",
     "output_type": "stream",
     "text": [
      " 46%|███████████████████▊                       | 40/87 [00:09<00:09,  4.98it/s]"
     ]
    },
    {
     "name": "stdout",
     "output_type": "stream",
     "text": [
      "train loss: 2.4714096048782953e-08, train accuracy: 1.0; eval loss: 0.0, eval accuracy: 1.0\n",
      "Validation loss decreased (0.000000 --> 0.000000).  Saving model ...\n"
     ]
    },
    {
     "name": "stderr",
     "output_type": "stream",
     "text": [
      " 92%|███████████████████████████████████████▌   | 80/87 [00:18<00:01,  4.97it/s]"
     ]
    },
    {
     "name": "stdout",
     "output_type": "stream",
     "text": [
      "train loss: 2.656409609920799e-07, train accuracy: 1.0; eval loss: 0.0, eval accuracy: 1.0\n",
      "Validation loss decreased (0.000000 --> 0.000000).  Saving model ...\n"
     ]
    },
    {
     "name": "stderr",
     "output_type": "stream",
     "text": [
      "100%|███████████████████████████████████████████| 87/87 [00:20<00:00,  4.23it/s]\n"
     ]
    },
    {
     "name": "stdout",
     "output_type": "stream",
     "text": [
      "At epoch 14\n"
     ]
    },
    {
     "name": "stderr",
     "output_type": "stream",
     "text": [
      "\r",
      "  0%|                                                    | 0/87 [00:00<?, ?it/s]"
     ]
    },
    {
     "name": "stdout",
     "output_type": "stream",
     "text": [
      "train loss: 0.0, train accuracy: 1.0; eval loss: 0.0, eval accuracy: 1.0\n",
      "Validation loss decreased (0.000000 --> 0.000000).  Saving model ...\n"
     ]
    },
    {
     "name": "stderr",
     "output_type": "stream",
     "text": [
      " 46%|███████████████████▊                       | 40/87 [00:09<00:09,  4.93it/s]"
     ]
    },
    {
     "name": "stdout",
     "output_type": "stream",
     "text": [
      "train loss: 0.0004060239762139179, train accuracy: 1.0; eval loss: 0.0, eval accuracy: 1.0\n",
      "Validation loss decreased (0.000000 --> 0.000000).  Saving model ...\n"
     ]
    },
    {
     "name": "stderr",
     "output_type": "stream",
     "text": [
      " 92%|███████████████████████████████████████▌   | 80/87 [00:18<00:01,  4.90it/s]"
     ]
    },
    {
     "name": "stdout",
     "output_type": "stream",
     "text": [
      "train loss: 0.00020703767244059336, train accuracy: 1.0; eval loss: 0.0, eval accuracy: 1.0\n",
      "Validation loss decreased (0.000000 --> 0.000000).  Saving model ...\n"
     ]
    },
    {
     "name": "stderr",
     "output_type": "stream",
     "text": [
      "100%|███████████████████████████████████████████| 87/87 [00:20<00:00,  4.17it/s]\n"
     ]
    },
    {
     "name": "stdout",
     "output_type": "stream",
     "text": [
      "At epoch 15\n"
     ]
    },
    {
     "name": "stderr",
     "output_type": "stream",
     "text": [
      "\r",
      "  0%|                                                    | 0/87 [00:00<?, ?it/s]"
     ]
    },
    {
     "name": "stdout",
     "output_type": "stream",
     "text": [
      "train loss: 0.0, train accuracy: 1.0; eval loss: 0.0, eval accuracy: 1.0\n",
      "Validation loss decreased (0.000000 --> 0.000000).  Saving model ...\n"
     ]
    },
    {
     "name": "stderr",
     "output_type": "stream",
     "text": [
      " 46%|███████████████████▊                       | 40/87 [00:09<00:09,  4.97it/s]"
     ]
    },
    {
     "name": "stdout",
     "output_type": "stream",
     "text": [
      "train loss: 4.3613147781576205e-09, train accuracy: 1.0; eval loss: 0.0, eval accuracy: 1.0\n",
      "Validation loss decreased (0.000000 --> 0.000000).  Saving model ...\n"
     ]
    },
    {
     "name": "stderr",
     "output_type": "stream",
     "text": [
      " 92%|███████████████████████████████████████▌   | 80/87 [00:18<00:01,  4.95it/s]"
     ]
    },
    {
     "name": "stdout",
     "output_type": "stream",
     "text": [
      "train loss: 1.198599667276663e-06, train accuracy: 1.0; eval loss: 0.0, eval accuracy: 1.0\n",
      "Validation loss decreased (0.000000 --> 0.000000).  Saving model ...\n"
     ]
    },
    {
     "name": "stderr",
     "output_type": "stream",
     "text": [
      "100%|███████████████████████████████████████████| 87/87 [00:21<00:00,  4.13it/s]\n"
     ]
    },
    {
     "name": "stdout",
     "output_type": "stream",
     "text": [
      "At epoch 16\n"
     ]
    },
    {
     "name": "stderr",
     "output_type": "stream",
     "text": [
      "\r",
      "  0%|                                                    | 0/87 [00:00<?, ?it/s]"
     ]
    },
    {
     "name": "stdout",
     "output_type": "stream",
     "text": [
      "train loss: 0.0, train accuracy: 1.0; eval loss: 0.0, eval accuracy: 1.0\n",
      "Validation loss decreased (0.000000 --> 0.000000).  Saving model ...\n"
     ]
    },
    {
     "name": "stderr",
     "output_type": "stream",
     "text": [
      " 46%|███████████████████▊                       | 40/87 [00:09<00:09,  4.89it/s]"
     ]
    },
    {
     "name": "stdout",
     "output_type": "stream",
     "text": [
      "train loss: 1.4144379969277397e-06, train accuracy: 1.0; eval loss: 0.0, eval accuracy: 1.0\n",
      "Validation loss decreased (0.000000 --> 0.000000).  Saving model ...\n"
     ]
    },
    {
     "name": "stderr",
     "output_type": "stream",
     "text": [
      " 92%|███████████████████████████████████████▌   | 80/87 [00:19<00:01,  4.76it/s]"
     ]
    },
    {
     "name": "stdout",
     "output_type": "stream",
     "text": [
      "train loss: 1.2332381210280436e-06, train accuracy: 1.0; eval loss: 0.0, eval accuracy: 1.0\n",
      "Validation loss decreased (0.000000 --> 0.000000).  Saving model ...\n"
     ]
    },
    {
     "name": "stderr",
     "output_type": "stream",
     "text": [
      "100%|███████████████████████████████████████████| 87/87 [00:21<00:00,  4.03it/s]\n"
     ]
    },
    {
     "name": "stdout",
     "output_type": "stream",
     "text": [
      "At epoch 17\n"
     ]
    },
    {
     "name": "stderr",
     "output_type": "stream",
     "text": [
      "\r",
      "  0%|                                                    | 0/87 [00:00<?, ?it/s]"
     ]
    },
    {
     "name": "stdout",
     "output_type": "stream",
     "text": [
      "train loss: 0.0, train accuracy: 1.0; eval loss: 0.0, eval accuracy: 1.0\n",
      "Validation loss decreased (0.000000 --> 0.000000).  Saving model ...\n"
     ]
    },
    {
     "name": "stderr",
     "output_type": "stream",
     "text": [
      " 46%|███████████████████▊                       | 40/87 [00:09<00:09,  4.78it/s]"
     ]
    },
    {
     "name": "stdout",
     "output_type": "stream",
     "text": [
      "train loss: 5.088191392340976e-08, train accuracy: 1.0; eval loss: 0.0, eval accuracy: 1.0\n",
      "Validation loss decreased (0.000000 --> 0.000000).  Saving model ...\n"
     ]
    },
    {
     "name": "stderr",
     "output_type": "stream",
     "text": [
      " 92%|███████████████████████████████████████▌   | 80/87 [00:18<00:01,  5.29it/s]"
     ]
    },
    {
     "name": "stdout",
     "output_type": "stream",
     "text": [
      "train loss: 7.726502740767478e-08, train accuracy: 1.0; eval loss: 0.0, eval accuracy: 1.0\n",
      "Validation loss decreased (0.000000 --> 0.000000).  Saving model ...\n"
     ]
    },
    {
     "name": "stderr",
     "output_type": "stream",
     "text": [
      "100%|███████████████████████████████████████████| 87/87 [00:20<00:00,  4.25it/s]\n"
     ]
    },
    {
     "name": "stdout",
     "output_type": "stream",
     "text": [
      "At epoch 18\n"
     ]
    },
    {
     "name": "stderr",
     "output_type": "stream",
     "text": [
      "\r",
      "  0%|                                                    | 0/87 [00:00<?, ?it/s]"
     ]
    },
    {
     "name": "stdout",
     "output_type": "stream",
     "text": [
      "train loss: 0.0, train accuracy: 1.0; eval loss: 0.0, eval accuracy: 1.0\n",
      "Validation loss decreased (0.000000 --> 0.000000).  Saving model ...\n"
     ]
    },
    {
     "name": "stderr",
     "output_type": "stream",
     "text": [
      " 46%|███████████████████▊                       | 40/87 [00:08<00:08,  5.23it/s]"
     ]
    },
    {
     "name": "stdout",
     "output_type": "stream",
     "text": [
      "train loss: 0.014313468324849608, train accuracy: 0.9878048780487805; eval loss: 0.0, eval accuracy: 1.0\n",
      "Validation loss decreased (0.000000 --> 0.000000).  Saving model ...\n"
     ]
    },
    {
     "name": "stderr",
     "output_type": "stream",
     "text": [
      " 92%|███████████████████████████████████████▌   | 80/87 [00:17<00:01,  5.18it/s]"
     ]
    },
    {
     "name": "stdout",
     "output_type": "stream",
     "text": [
      "train loss: 0.00724508890517079, train accuracy: 0.9938271604938271; eval loss: 0.0, eval accuracy: 1.0\n",
      "Validation loss decreased (0.000000 --> 0.000000).  Saving model ...\n"
     ]
    },
    {
     "name": "stderr",
     "output_type": "stream",
     "text": [
      "100%|███████████████████████████████████████████| 87/87 [00:19<00:00,  4.40it/s]\n"
     ]
    },
    {
     "name": "stdout",
     "output_type": "stream",
     "text": [
      "At epoch 19\n"
     ]
    },
    {
     "name": "stderr",
     "output_type": "stream",
     "text": [
      "\r",
      "  0%|                                                    | 0/87 [00:00<?, ?it/s]"
     ]
    },
    {
     "name": "stdout",
     "output_type": "stream",
     "text": [
      "train loss: 0.0, train accuracy: 1.0; eval loss: 0.0, eval accuracy: 1.0\n",
      "Validation loss decreased (0.000000 --> 0.000000).  Saving model ...\n"
     ]
    },
    {
     "name": "stderr",
     "output_type": "stream",
     "text": [
      " 46%|███████████████████▊                       | 40/87 [00:08<00:09,  5.17it/s]"
     ]
    },
    {
     "name": "stdout",
     "output_type": "stream",
     "text": [
      "train loss: 0.11971354411608312, train accuracy: 0.9878048780487805; eval loss: 0.0, eval accuracy: 1.0\n",
      "Validation loss decreased (0.000000 --> 0.000000).  Saving model ...\n"
     ]
    },
    {
     "name": "stderr",
     "output_type": "stream",
     "text": [
      " 92%|███████████████████████████████████████▌   | 80/87 [00:17<00:01,  5.11it/s]"
     ]
    },
    {
     "name": "stdout",
     "output_type": "stream",
     "text": [
      "train loss: 0.06059574455258528, train accuracy: 0.9938271604938271; eval loss: 0.0, eval accuracy: 1.0\n",
      "Validation loss decreased (0.000000 --> 0.000000).  Saving model ...\n"
     ]
    },
    {
     "name": "stderr",
     "output_type": "stream",
     "text": [
      "100%|███████████████████████████████████████████| 87/87 [00:19<00:00,  4.40it/s]\n"
     ]
    }
   ],
   "source": [
    "trainer()"
   ]
  },
  {
   "cell_type": "code",
   "execution_count": null,
   "id": "358ab8ad",
   "metadata": {},
   "outputs": [],
   "source": []
  }
 ],
 "metadata": {
  "kernelspec": {
   "display_name": "Python 3 (ipykernel)",
   "language": "python",
   "name": "python3"
  },
  "language_info": {
   "codemirror_mode": {
    "name": "ipython",
    "version": 3
   },
   "file_extension": ".py",
   "mimetype": "text/x-python",
   "name": "python",
   "nbconvert_exporter": "python",
   "pygments_lexer": "ipython3",
   "version": "3.8.12"
  }
 },
 "nbformat": 4,
 "nbformat_minor": 5
}
